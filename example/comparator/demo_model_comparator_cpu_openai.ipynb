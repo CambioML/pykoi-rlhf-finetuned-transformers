{
 "cells": [
  {
   "cell_type": "markdown",
   "metadata": {},
   "source": [
    "# Demo: LLMs Comparison between OpenAI models\n",
    "\n",
    "`pykoi` provides simple API to compare between LLMs, including your own finetuned LLM, a pretrained LLM from huggingface, or OpenAI/Anthropic/Bedrock APIs. This demo shows how to create and launch an LLM comparison app for OpenAI/Anthropic/Bedrock APIs. Let's get started!\n",
    "\n",
    "### Prerequisites\n",
    "To run this jupyter notebook, you need a `pykoi` environment with the `rag` option. You can follow [the installation guide](https://github.com/CambioML/pykoi/tree/install#option-1-rag-cpu) to set up the environment. \n",
    "\n",
    "You may also need `pip install ipykernel` to run the kernel environment.\n",
    "\n",
    "\n",
    "### (Optional) Developer setup\n",
    "If you are a normal user of `pykoi`, you can skip this step. However, if you modify the pykoi code and want to test your changes, you can uncomment the code below."
   ]
  },
  {
   "cell_type": "code",
   "execution_count": 1,
   "metadata": {},
   "outputs": [],
   "source": [
    "# %reload_ext autoreload\n",
    "# %autoreload 2\n",
    "\n",
    "# import sys\n",
    "\n",
    "# sys.path.append(\".\")\n",
    "# sys.path.append(\"..\")\n",
    "# sys.path.append(\"../..\")"
   ]
  },
  {
   "cell_type": "markdown",
   "metadata": {},
   "source": [
    "### Import Libraries"
   ]
  },
  {
   "cell_type": "code",
   "execution_count": 2,
   "metadata": {},
   "outputs": [],
   "source": [
    "from pykoi import Application\n",
    "from pykoi.chat import ModelFactory\n",
    "from pykoi.component import Compare"
   ]
  },
  {
   "cell_type": "markdown",
   "metadata": {},
   "source": [
    "\n",
    "\n",
    "### Load LLMs\n",
    "\n",
    "#### 1. Creating an OpenAI model (requires an OpenAI API key)\n",
    "Enter your OpenAI API key a .env file in the `~/pykoi` directory with the name OPEN_API_KEY, e.g.\n",
    "```\n",
    "OPENAI_API_KEY=your_api_key\n",
    "```"
   ]
  },
  {
   "cell_type": "code",
   "execution_count": 3,
   "metadata": {},
   "outputs": [
    {
     "data": {
      "text/plain": [
       "True"
      ]
     },
     "execution_count": 3,
     "metadata": {},
     "output_type": "execute_result"
    }
   ],
   "source": [
    "from dotenv import load_dotenv\n",
    "load_dotenv()"
   ]
  },
  {
   "cell_type": "code",
   "execution_count": 4,
   "metadata": {},
   "outputs": [],
   "source": [
    "# Creating an OpenAI model\n",
    "openai_model_1 = ModelFactory.create_model(\n",
    "    model_source=\"openai\", model=\"babbage\"\n",
    ")\n",
    "openai_model_2 = ModelFactory.create_model(\n",
    "    model_source=\"openai\", model=\"curie\"\n",
    ")\n",
    "openai_model_3 = ModelFactory.create_model(\n",
    "    model_source=\"openai\", model=\"davinci\"\n",
    ")"
   ]
  },
  {
   "cell_type": "markdown",
   "metadata": {},
   "source": [
    "## Create a chatbot comparator\n"
   ]
  },
  {
   "cell_type": "code",
   "execution_count": 5,
   "metadata": {},
   "outputs": [],
   "source": [
    "# pass in a list of models to compare\n",
    "chatbot_comparator = Compare(models=[openai_model_1, openai_model_2])\n",
    "chatbot_comparator.add(openai_model_3)"
   ]
  },
  {
   "cell_type": "markdown",
   "metadata": {},
   "source": [
    "### Add `nest_asyncio` \n",
    "Add `nest_asyncio` to avoid error. Since we're running another interface inside a Jupyter notebook where an asyncio event loop is already running, we'll encounter the error. (since The uvicorn.run() function uses asyncio.run(), which isn't compatible with a running event loop.)"
   ]
  },
  {
   "cell_type": "code",
   "execution_count": 6,
   "metadata": {},
   "outputs": [],
   "source": [
    "# !pip install -q nest_asyncio\n",
    "import nest_asyncio\n",
    "nest_asyncio.apply()"
   ]
  },
  {
   "cell_type": "markdown",
   "metadata": {},
   "source": [
    "### Launch the App"
   ]
  },
  {
   "cell_type": "code",
   "execution_count": 7,
   "metadata": {},
   "outputs": [
    {
     "name": "stderr",
     "output_type": "stream",
     "text": [
      "INFO:     Started server process [49001]\n",
      "INFO:     Waiting for application startup.\n",
      "INFO:     Application startup complete.\n",
      "INFO:     Uvicorn running on http://0.0.0.0:5000 (Press CTRL+C to quit)\n"
     ]
    },
    {
     "name": "stdout",
     "output_type": "stream",
     "text": [
      "INFO:     127.0.0.1:53809 - \"GET /components HTTP/1.1\" 200 OK\n",
      "INFO:     127.0.0.1:53809 - \"GET /chat/comparator/db/retrieve HTTP/1.1\" 200 OK\n",
      "INFO:     127.0.0.1:53820 - \"POST /chat/comparator/Who%20is%20greg%20kinnear HTTP/1.1\" 200 OK\n"
     ]
    }
   ],
   "source": [
    "app = Application(debug=False, share=False)\n",
    "app.add_component(chatbot_comparator)\n",
    "app.run()"
   ]
  },
  {
   "cell_type": "markdown",
   "metadata": {},
   "source": [
    "Now we can launch the ranking chatbot. Click this above link and you can similar interface:\n",
    "\n",
    "<p align=\"center\">\n",
    "    <img src=\"../image/drag_and_rank_crop_2x.gif\" width=\"75%\" height=\"75%\" />\n",
    "</p>\n",
    "\n",
    "\n",
    "\n",
    "You can also check the dashboard for your ranking of the model answers:\n",
    "\n",
    "<p align=\"center\">\n",
    "    <img src=\"../image/comparisonDemoSmall_2x.gif\" width=\"75%\" height=\"75%\" />\n",
    "</p>"
   ]
  }
 ],
 "metadata": {
  "kernelspec": {
   "display_name": "test",
   "language": "python",
   "name": "python3"
  },
  "language_info": {
   "codemirror_mode": {
    "name": "ipython",
    "version": 3
   },
   "file_extension": ".py",
   "mimetype": "text/x-python",
   "name": "python",
   "nbconvert_exporter": "python",
   "pygments_lexer": "ipython3",
   "version": "3.10.13"
  }
 },
 "nbformat": 4,
 "nbformat_minor": 2
}
